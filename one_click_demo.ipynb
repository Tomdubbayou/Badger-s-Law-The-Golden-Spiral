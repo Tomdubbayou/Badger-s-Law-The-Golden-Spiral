{
 "cells": [
  {
   "cell_type": "markdown",
   "id": "12cbf093",
   "metadata": {},
   "source": [
    "# 🌀 Badger Spiral Phase Simulation\n",
    "Simulates scalar phase tension in a 3-body system using golden-ratio-based spiral fields."
   ]
  },
  {
   "cell_type": "code",
   "execution_count": null,
   "id": "e4f24f0c",
   "metadata": {},
   "outputs": [],
   "source": [
    "import numpy as np\n",
    "import matplotlib.pyplot as plt\n",
    "\n",
    "# Parameters\n",
    "phi = (1 + np.sqrt(5)) / 2\n",
    "b = np.log(phi) / (np.pi / 2)\n",
    "a = 1  # spiral amplitude\n",
    "omega1, omega2, omega3 = 0.999, 1.000, 1.001  # angular velocities\n",
    "\n",
    "# Time array\n",
    "t = np.linspace(0, 100, 2000)\n",
    "\n",
    "# Spiral radii (r = a * exp(b * ω * t))\n",
    "r1 = a * np.exp(b * omega1 * t)\n",
    "r2 = a * np.exp(b * omega2 * t)\n",
    "r3 = a * np.exp(b * omega3 * t)\n",
    "\n",
    "# Scalar phase tension function\n",
    "V = np.abs(r1 - r2) + np.abs(r2 - r3) + np.abs(r3 - r1)\n",
    "\n",
    "# Plot the tension over time\n",
    "plt.figure(figsize=(10, 6))\n",
    "plt.plot(t, V, color='darkgreen', label='Phase Tension V(t)')\n",
    "plt.title('Badger Spiral Phase Tension (φ-based Spiral Fields)')\n",
    "plt.xlabel('Time (t)')\n",
    "plt.ylabel('Tension V(t)')\n",
    "plt.grid(True)\n",
    "plt.legend()\n",
    "plt.tight_layout()\n",
    "plt.show()\n"
   ]
  }
 ],
 "metadata": {},
 "nbformat": 4,
 "nbformat_minor": 5
}
